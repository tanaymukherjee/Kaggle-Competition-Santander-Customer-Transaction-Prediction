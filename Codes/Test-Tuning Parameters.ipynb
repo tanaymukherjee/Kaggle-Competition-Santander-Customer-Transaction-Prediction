{
 "cells": [
  {
   "cell_type": "code",
   "execution_count": 20,
   "metadata": {
    "_cell_guid": "b1076dfc-b9ad-4769-8c92-a6c4dae69d19",
    "_kg_hide-input": true,
    "_uuid": "8f2839f25d086af736a60e9eeb907d3b93b6e0e5"
   },
   "outputs": [],
   "source": [
    "# This Python 3 environment comes with many helpful analytics libraries installed\n",
    "# It is defined by the kaggle/python docker image: https://github.com/kaggle/docker-python\n",
    "# For example, here's several helpful packages to load in \n",
    "\n",
    "import numpy as np # linear algebra\n",
    "import pandas as pd # data processing, CSV file I/O (e.g. pd.read_csv)\n",
    "from numba import jit\n",
    "import lightgbm as lgb\n",
    "from sklearn.metrics import roc_auc_score\n",
    "from sklearn.model_selection import StratifiedKFold, KFold\n",
    "import seaborn as sns\n",
    "import matplotlib.pyplot as plt\n",
    "%matplotlib inline"
   ]
  },
  {
   "cell_type": "code",
   "execution_count": 21,
   "metadata": {
    "_kg_hide-output": true,
    "_uuid": "06cd64c0f3127126bdc26a2e6c58c776241a17d8"
   },
   "outputs": [
    {
     "name": "stdout",
     "output_type": "stream",
     "text": [
      "Wall time: 2min 14s\n",
      "Parser   : 274 ms\n"
     ]
    }
   ],
   "source": [
    "%%time\n",
    "\n",
    "train = pd.read_csv('train.csv')\n",
    "test = pd.read_csv('test.csv')\n",
    "features = [c for c in train.columns if c not in ['ID_code', 'target']]\n",
    "target = train['target']"
   ]
  },
  {
   "cell_type": "code",
   "execution_count": 22,
   "metadata": {
    "_kg_hide-input": true,
    "_uuid": "073d6a5c3be3de1954c5f50b42de85ffd9dce70e"
   },
   "outputs": [
    {
     "name": "stdout",
     "output_type": "stream",
     "text": [
      "Test  (200000, 201)\n",
      "Train  (200000, 202)\n"
     ]
    }
   ],
   "source": [
    "print (\"Test \",test.shape)\n",
    "print (\"Train \",train.shape)"
   ]
  },
  {
   "cell_type": "code",
   "execution_count": 23,
   "metadata": {
    "_kg_hide-input": false,
    "_uuid": "9f40ca4b8947c5be86b38141ab71ce68805d5ec6"
   },
   "outputs": [],
   "source": [
    "@jit\n",
    "def augment(x,y,t=2):\n",
    "    xs,xn = [],[]\n",
    "    for i in range(t):\n",
    "        mask = y>0\n",
    "        x1 = x[mask].copy()\n",
    "        ids = np.arange(x1.shape[0])\n",
    "        for c in range(x1.shape[1]):\n",
    "            np.random.shuffle(ids)\n",
    "            x1[:,c] = x1[ids][:,c]\n",
    "        xs.append(x1)\n",
    "\n",
    "    for i in range(t//2):\n",
    "        mask = y==0\n",
    "        x1 = x[mask].copy()\n",
    "        ids = np.arange(x1.shape[0])\n",
    "        for c in range(x1.shape[1]):\n",
    "            np.random.shuffle(ids)\n",
    "            x1[:,c] = x1[ids][:,c]\n",
    "        xn.append(x1)\n",
    "\n",
    "    xs = np.vstack(xs)\n",
    "    xn = np.vstack(xn)\n",
    "    ys = np.ones(xs.shape[0])\n",
    "    yn = np.zeros(xn.shape[0])\n",
    "    x = np.vstack([x,xs,xn])\n",
    "    y = np.concatenate([y,ys,yn])\n",
    "    return x,y"
   ]
  },
  {
   "cell_type": "code",
   "execution_count": 24,
   "metadata": {
    "_kg_hide-input": false,
    "_uuid": "ce2a155cd34809f36d665ce38bb3ec632ca62746"
   },
   "outputs": [],
   "source": [
    "param = {\n",
    "    'bagging_freq': 5,\n",
    "    'bagging_fraction': 0.335,\n",
    "    'boost_from_average':'false',\n",
    "    'boost': 'gbdt',\n",
    "    'feature_fraction': 0.041,\n",
    "    'learning_rate': 0.0043,\n",
    "    'max_depth': 2,\n",
    "    'metric':'auc',\n",
    "    'min_data_in_leaf': 180,\n",
    "    'min_sum_hessian_in_leaf': 10.0,\n",
    "    'num_leaves': 3,\n",
    "    'num_threads': 8,\n",
    "    'tree_learner': 'serial',\n",
    "    'objective': 'binary', \n",
    "    'verbosity': -1,\n",
    "    'max_bin' : 900,\n",
    "}"
   ]
  },
  {
   "cell_type": "code",
   "execution_count": 25,
   "metadata": {
    "_uuid": "8cf186957ca8ba2c018701178284190727edde87"
   },
   "outputs": [],
   "source": [
    "#kfold = 15\n",
    "#folds = StratifiedKFold(n_splits=kfold, shuffle=False, random_state=44000)\n",
    "num_folds = 5\n",
    "features = [c for c in train.columns if c not in ['ID_code', 'target']]\n",
    "\n",
    "folds = KFold(n_splits=num_folds, random_state=3319)\n",
    "oof = np.zeros(len(train))\n",
    "getVal = np.zeros(len(train))\n",
    "predictions = np.zeros(len(target))\n",
    "feature_importance_df = pd.DataFrame()"
   ]
  },
  {
   "cell_type": "code",
   "execution_count": 26,
   "metadata": {
    "scrolled": false
   },
   "outputs": [
    {
     "name": "stdout",
     "output_type": "stream",
     "text": [
      "Fold idx:1\n",
      "Training until validation scores don't improve for 3000 rounds.\n",
      "[7000]\ttraining's auc: 0.875832\tvalid_1's auc: 0.864444\n",
      "[14000]\ttraining's auc: 0.894115\tvalid_1's auc: 0.88152\n",
      "[21000]\ttraining's auc: 0.902383\tvalid_1's auc: 0.889548\n",
      "[28000]\ttraining's auc: 0.906893\tvalid_1's auc: 0.893995\n",
      "[35000]\ttraining's auc: 0.9097\tvalid_1's auc: 0.896568\n",
      "[42000]\ttraining's auc: 0.91168\tvalid_1's auc: 0.898086\n",
      "[49000]\ttraining's auc: 0.913191\tvalid_1's auc: 0.898895\n",
      "[56000]\ttraining's auc: 0.914504\tvalid_1's auc: 0.899371\n",
      "[63000]\ttraining's auc: 0.915691\tvalid_1's auc: 0.899608\n",
      "[70000]\ttraining's auc: 0.916788\tvalid_1's auc: 0.899742\n",
      "Early stopping, best iteration is:\n",
      "[72458]\ttraining's auc: 0.91716\tvalid_1's auc: 0.899774\n",
      "Fold idx:2\n",
      "Training until validation scores don't improve for 3000 rounds.\n",
      "[7000]\ttraining's auc: 0.876868\tvalid_1's auc: 0.864832\n",
      "[14000]\ttraining's auc: 0.894905\tvalid_1's auc: 0.882017\n"
     ]
    },
    {
     "ename": "KeyboardInterrupt",
     "evalue": "",
     "output_type": "error",
     "traceback": [
      "\u001b[1;31m---------------------------------------------------------------------------\u001b[0m",
      "\u001b[1;31mKeyboardInterrupt\u001b[0m                         Traceback (most recent call last)",
      "\u001b[1;32m<ipython-input-26-52737276d2ef>\u001b[0m in \u001b[0;36m<module>\u001b[1;34m\u001b[0m\n\u001b[0;32m     12\u001b[0m \u001b[1;33m\u001b[0m\u001b[0m\n\u001b[0;32m     13\u001b[0m     clf = lgb.train(param, trn_data, 1000000, valid_sets = [trn_data, val_data], verbose_eval=7000, \n\u001b[1;32m---> 14\u001b[1;33m                     early_stopping_rounds = 3000)\n\u001b[0m\u001b[0;32m     15\u001b[0m     \u001b[0moof\u001b[0m\u001b[1;33m[\u001b[0m\u001b[0mval_idx\u001b[0m\u001b[1;33m]\u001b[0m \u001b[1;33m=\u001b[0m \u001b[0mclf\u001b[0m\u001b[1;33m.\u001b[0m\u001b[0mpredict\u001b[0m\u001b[1;33m(\u001b[0m\u001b[0mtrain\u001b[0m\u001b[1;33m.\u001b[0m\u001b[0miloc\u001b[0m\u001b[1;33m[\u001b[0m\u001b[0mval_idx\u001b[0m\u001b[1;33m]\u001b[0m\u001b[1;33m[\u001b[0m\u001b[0mfeatures\u001b[0m\u001b[1;33m]\u001b[0m\u001b[1;33m,\u001b[0m \u001b[0mnum_iteration\u001b[0m\u001b[1;33m=\u001b[0m\u001b[0mclf\u001b[0m\u001b[1;33m.\u001b[0m\u001b[0mbest_iteration\u001b[0m\u001b[1;33m)\u001b[0m\u001b[1;33m\u001b[0m\u001b[0m\n\u001b[0;32m     16\u001b[0m     \u001b[0mgetVal\u001b[0m\u001b[1;33m[\u001b[0m\u001b[0mval_idx\u001b[0m\u001b[1;33m]\u001b[0m\u001b[1;33m+=\u001b[0m \u001b[0mclf\u001b[0m\u001b[1;33m.\u001b[0m\u001b[0mpredict\u001b[0m\u001b[1;33m(\u001b[0m\u001b[0mtrain\u001b[0m\u001b[1;33m.\u001b[0m\u001b[0miloc\u001b[0m\u001b[1;33m[\u001b[0m\u001b[0mval_idx\u001b[0m\u001b[1;33m]\u001b[0m\u001b[1;33m[\u001b[0m\u001b[0mfeatures\u001b[0m\u001b[1;33m]\u001b[0m\u001b[1;33m,\u001b[0m \u001b[0mnum_iteration\u001b[0m\u001b[1;33m=\u001b[0m\u001b[0mclf\u001b[0m\u001b[1;33m.\u001b[0m\u001b[0mbest_iteration\u001b[0m\u001b[1;33m)\u001b[0m \u001b[1;33m/\u001b[0m \u001b[0mfolds\u001b[0m\u001b[1;33m.\u001b[0m\u001b[0mn_splits\u001b[0m\u001b[1;33m\u001b[0m\u001b[0m\n",
      "\u001b[1;32mC:\\Anaconda3\\lib\\site-packages\\lightgbm\\engine.py\u001b[0m in \u001b[0;36mtrain\u001b[1;34m(params, train_set, num_boost_round, valid_sets, valid_names, fobj, feval, init_model, feature_name, categorical_feature, early_stopping_rounds, evals_result, verbose_eval, learning_rates, keep_training_booster, callbacks)\u001b[0m\n\u001b[0;32m    222\u001b[0m         \u001b[1;32mif\u001b[0m \u001b[0mvalid_sets\u001b[0m \u001b[1;32mis\u001b[0m \u001b[1;32mnot\u001b[0m \u001b[1;32mNone\u001b[0m\u001b[1;33m:\u001b[0m\u001b[1;33m\u001b[0m\u001b[0m\n\u001b[0;32m    223\u001b[0m             \u001b[1;32mif\u001b[0m \u001b[0mis_valid_contain_train\u001b[0m\u001b[1;33m:\u001b[0m\u001b[1;33m\u001b[0m\u001b[0m\n\u001b[1;32m--> 224\u001b[1;33m                 \u001b[0mevaluation_result_list\u001b[0m\u001b[1;33m.\u001b[0m\u001b[0mextend\u001b[0m\u001b[1;33m(\u001b[0m\u001b[0mbooster\u001b[0m\u001b[1;33m.\u001b[0m\u001b[0meval_train\u001b[0m\u001b[1;33m(\u001b[0m\u001b[0mfeval\u001b[0m\u001b[1;33m)\u001b[0m\u001b[1;33m)\u001b[0m\u001b[1;33m\u001b[0m\u001b[0m\n\u001b[0m\u001b[0;32m    225\u001b[0m             \u001b[0mevaluation_result_list\u001b[0m\u001b[1;33m.\u001b[0m\u001b[0mextend\u001b[0m\u001b[1;33m(\u001b[0m\u001b[0mbooster\u001b[0m\u001b[1;33m.\u001b[0m\u001b[0meval_valid\u001b[0m\u001b[1;33m(\u001b[0m\u001b[0mfeval\u001b[0m\u001b[1;33m)\u001b[0m\u001b[1;33m)\u001b[0m\u001b[1;33m\u001b[0m\u001b[0m\n\u001b[0;32m    226\u001b[0m         \u001b[1;32mtry\u001b[0m\u001b[1;33m:\u001b[0m\u001b[1;33m\u001b[0m\u001b[0m\n",
      "\u001b[1;32mC:\\Anaconda3\\lib\\site-packages\\lightgbm\\basic.py\u001b[0m in \u001b[0;36meval_train\u001b[1;34m(self, feval)\u001b[0m\n\u001b[0;32m   1956\u001b[0m             \u001b[0mList\u001b[0m \u001b[1;32mwith\u001b[0m \u001b[0mevaluation\u001b[0m \u001b[0mresults\u001b[0m\u001b[1;33m.\u001b[0m\u001b[1;33m\u001b[0m\u001b[0m\n\u001b[0;32m   1957\u001b[0m         \"\"\"\n\u001b[1;32m-> 1958\u001b[1;33m         \u001b[1;32mreturn\u001b[0m \u001b[0mself\u001b[0m\u001b[1;33m.\u001b[0m\u001b[0m__inner_eval\u001b[0m\u001b[1;33m(\u001b[0m\u001b[0mself\u001b[0m\u001b[1;33m.\u001b[0m\u001b[0m__train_data_name\u001b[0m\u001b[1;33m,\u001b[0m \u001b[1;36m0\u001b[0m\u001b[1;33m,\u001b[0m \u001b[0mfeval\u001b[0m\u001b[1;33m)\u001b[0m\u001b[1;33m\u001b[0m\u001b[0m\n\u001b[0m\u001b[0;32m   1959\u001b[0m \u001b[1;33m\u001b[0m\u001b[0m\n\u001b[0;32m   1960\u001b[0m     \u001b[1;32mdef\u001b[0m \u001b[0meval_valid\u001b[0m\u001b[1;33m(\u001b[0m\u001b[0mself\u001b[0m\u001b[1;33m,\u001b[0m \u001b[0mfeval\u001b[0m\u001b[1;33m=\u001b[0m\u001b[1;32mNone\u001b[0m\u001b[1;33m)\u001b[0m\u001b[1;33m:\u001b[0m\u001b[1;33m\u001b[0m\u001b[0m\n",
      "\u001b[1;32mC:\\Anaconda3\\lib\\site-packages\\lightgbm\\basic.py\u001b[0m in \u001b[0;36m__inner_eval\u001b[1;34m(self, data_name, data_idx, feval)\u001b[0m\n\u001b[0;32m   2362\u001b[0m                 \u001b[0mctypes\u001b[0m\u001b[1;33m.\u001b[0m\u001b[0mc_int\u001b[0m\u001b[1;33m(\u001b[0m\u001b[0mdata_idx\u001b[0m\u001b[1;33m)\u001b[0m\u001b[1;33m,\u001b[0m\u001b[1;33m\u001b[0m\u001b[0m\n\u001b[0;32m   2363\u001b[0m                 \u001b[0mctypes\u001b[0m\u001b[1;33m.\u001b[0m\u001b[0mbyref\u001b[0m\u001b[1;33m(\u001b[0m\u001b[0mtmp_out_len\u001b[0m\u001b[1;33m)\u001b[0m\u001b[1;33m,\u001b[0m\u001b[1;33m\u001b[0m\u001b[0m\n\u001b[1;32m-> 2364\u001b[1;33m                 result.ctypes.data_as(ctypes.POINTER(ctypes.c_double))))\n\u001b[0m\u001b[0;32m   2365\u001b[0m             \u001b[1;32mif\u001b[0m \u001b[0mtmp_out_len\u001b[0m\u001b[1;33m.\u001b[0m\u001b[0mvalue\u001b[0m \u001b[1;33m!=\u001b[0m \u001b[0mself\u001b[0m\u001b[1;33m.\u001b[0m\u001b[0m__num_inner_eval\u001b[0m\u001b[1;33m:\u001b[0m\u001b[1;33m\u001b[0m\u001b[0m\n\u001b[0;32m   2366\u001b[0m                 \u001b[1;32mraise\u001b[0m \u001b[0mValueError\u001b[0m\u001b[1;33m(\u001b[0m\u001b[1;34m\"Wrong length of eval results\"\u001b[0m\u001b[1;33m)\u001b[0m\u001b[1;33m\u001b[0m\u001b[0m\n",
      "\u001b[1;31mKeyboardInterrupt\u001b[0m: "
     ]
    }
   ],
   "source": [
    "for fold_, (trn_idx, val_idx) in enumerate(folds.split(train.values, target.values)):\n",
    "    \n",
    "    X_train, y_train = train.iloc[trn_idx][features], target.iloc[trn_idx]\n",
    "    X_valid, y_valid = train.iloc[val_idx][features], target.iloc[val_idx]\n",
    "    \n",
    "    X_tr, y_tr = augment(X_train.values, y_train.values)\n",
    "    X_tr = pd.DataFrame(X_tr)\n",
    "    \n",
    "    print(\"Fold idx:{}\".format(fold_ + 1))\n",
    "    trn_data = lgb.Dataset(X_tr, label=y_tr)\n",
    "    val_data = lgb.Dataset(X_valid, label=y_valid)\n",
    "    \n",
    "    clf = lgb.train(param, trn_data, 1000000, valid_sets = [trn_data, val_data], verbose_eval=7000, \n",
    "                    early_stopping_rounds = 3000)\n",
    "    oof[val_idx] = clf.predict(train.iloc[val_idx][features], num_iteration=clf.best_iteration)\n",
    "    getVal[val_idx]+= clf.predict(train.iloc[val_idx][features], num_iteration=clf.best_iteration) / folds.n_splits\n",
    "    \n",
    "    fold_importance_df = pd.DataFrame()\n",
    "    fold_importance_df[\"feature\"] = features\n",
    "    fold_importance_df[\"importance\"] = clf.feature_importance()\n",
    "    fold_importance_df[\"fold\"] = fold_ + 1\n",
    "    feature_importance_df = pd.concat([feature_importance_df, fold_importance_df], axis=0)\n",
    "    \n",
    "    predictions += clf.predict(test[features], num_iteration=clf.best_iteration) / folds.n_splits"
   ]
  },
  {
   "cell_type": "code",
   "execution_count": 16,
   "metadata": {
    "_kg_hide-input": true,
    "_uuid": "3e93e480b7f8404f0a460d4663696ab0b142b1dc"
   },
   "outputs": [
    {
     "name": "stdout",
     "output_type": "stream",
     "text": [
      "\n",
      " >> CV score: 0.90153 \n"
     ]
    }
   ],
   "source": [
    "print(\"\\n >> CV score: {:<8.5f}\".format(roc_auc_score(target, oof)))"
   ]
  },
  {
   "cell_type": "markdown",
   "metadata": {
    "_uuid": "757de0c47f13334bde694a06b3b4eba4c3ae9ad9"
   },
   "source": [
    "# Submission"
   ]
  },
  {
   "cell_type": "code",
   "execution_count": 17,
   "metadata": {
    "_uuid": "b2c5fc1d50c619bc36c1041e63c7a8802ffd8ac0"
   },
   "outputs": [],
   "source": [
    "submission = pd.DataFrame({\"ID_code\": test.ID_code.values})\n",
    "submission[\"target\"] = predictions\n",
    "submission.to_csv(\"submission_902.csv\", index=False)"
   ]
  },
  {
   "cell_type": "code",
   "execution_count": 19,
   "metadata": {},
   "outputs": [
    {
     "data": {
      "text/html": [
       "<div>\n",
       "<style scoped>\n",
       "    .dataframe tbody tr th:only-of-type {\n",
       "        vertical-align: middle;\n",
       "    }\n",
       "\n",
       "    .dataframe tbody tr th {\n",
       "        vertical-align: top;\n",
       "    }\n",
       "\n",
       "    .dataframe thead th {\n",
       "        text-align: right;\n",
       "    }\n",
       "</style>\n",
       "<table border=\"1\" class=\"dataframe\">\n",
       "  <thead>\n",
       "    <tr style=\"text-align: right;\">\n",
       "      <th></th>\n",
       "      <th>ID_code</th>\n",
       "      <th>target</th>\n",
       "    </tr>\n",
       "  </thead>\n",
       "  <tbody>\n",
       "    <tr>\n",
       "      <th>0</th>\n",
       "      <td>test_0</td>\n",
       "      <td>0.138552</td>\n",
       "    </tr>\n",
       "    <tr>\n",
       "      <th>1</th>\n",
       "      <td>test_1</td>\n",
       "      <td>0.280760</td>\n",
       "    </tr>\n",
       "    <tr>\n",
       "      <th>2</th>\n",
       "      <td>test_2</td>\n",
       "      <td>0.246681</td>\n",
       "    </tr>\n",
       "    <tr>\n",
       "      <th>3</th>\n",
       "      <td>test_3</td>\n",
       "      <td>0.264208</td>\n",
       "    </tr>\n",
       "    <tr>\n",
       "      <th>4</th>\n",
       "      <td>test_4</td>\n",
       "      <td>0.057968</td>\n",
       "    </tr>\n",
       "  </tbody>\n",
       "</table>\n",
       "</div>"
      ],
      "text/plain": [
       "  ID_code    target\n",
       "0  test_0  0.138552\n",
       "1  test_1  0.280760\n",
       "2  test_2  0.246681\n",
       "3  test_3  0.264208\n",
       "4  test_4  0.057968"
      ]
     },
     "execution_count": 19,
     "metadata": {},
     "output_type": "execute_result"
    }
   ],
   "source": [
    "submission.head()"
   ]
  },
  {
   "cell_type": "code",
   "execution_count": 19,
   "metadata": {
    "_uuid": "5fa54f6ffd8cbff04259aa8f56147655a49414bc"
   },
   "outputs": [
    {
     "data": {
      "text/html": [
       "<div>\n",
       "<style scoped>\n",
       "    .dataframe tbody tr th:only-of-type {\n",
       "        vertical-align: middle;\n",
       "    }\n",
       "\n",
       "    .dataframe tbody tr th {\n",
       "        vertical-align: top;\n",
       "    }\n",
       "\n",
       "    .dataframe thead th {\n",
       "        text-align: right;\n",
       "    }\n",
       "</style>\n",
       "<table border=\"1\" class=\"dataframe\">\n",
       "  <thead>\n",
       "    <tr style=\"text-align: right;\">\n",
       "      <th></th>\n",
       "      <th>ID_code</th>\n",
       "      <th>target</th>\n",
       "    </tr>\n",
       "  </thead>\n",
       "  <tbody>\n",
       "    <tr>\n",
       "      <th>0</th>\n",
       "      <td>test_0</td>\n",
       "      <td>0.142333</td>\n",
       "    </tr>\n",
       "    <tr>\n",
       "      <th>1</th>\n",
       "      <td>test_1</td>\n",
       "      <td>0.274733</td>\n",
       "    </tr>\n",
       "    <tr>\n",
       "      <th>2</th>\n",
       "      <td>test_2</td>\n",
       "      <td>0.241985</td>\n",
       "    </tr>\n",
       "    <tr>\n",
       "      <th>3</th>\n",
       "      <td>test_3</td>\n",
       "      <td>0.291388</td>\n",
       "    </tr>\n",
       "    <tr>\n",
       "      <th>4</th>\n",
       "      <td>test_4</td>\n",
       "      <td>0.058313</td>\n",
       "    </tr>\n",
       "  </tbody>\n",
       "</table>\n",
       "</div>"
      ],
      "text/plain": [
       "  ID_code    target\n",
       "0  test_0  0.142333\n",
       "1  test_1  0.274733\n",
       "2  test_2  0.241985\n",
       "3  test_3  0.291388\n",
       "4  test_4  0.058313"
      ]
     },
     "execution_count": 19,
     "metadata": {},
     "output_type": "execute_result"
    }
   ],
   "source": [
    "submission.head()"
   ]
  },
  {
   "cell_type": "code",
   "execution_count": null,
   "metadata": {},
   "outputs": [],
   "source": []
  },
  {
   "cell_type": "code",
   "execution_count": null,
   "metadata": {},
   "outputs": [],
   "source": []
  },
  {
   "cell_type": "code",
   "execution_count": null,
   "metadata": {},
   "outputs": [],
   "source": []
  },
  {
   "cell_type": "code",
   "execution_count": 16,
   "metadata": {},
   "outputs": [],
   "source": [
    "import pandas as pd\n",
    "submission = pd.read_csv(\"submission_902.csv\")"
   ]
  },
  {
   "cell_type": "code",
   "execution_count": 17,
   "metadata": {},
   "outputs": [
    {
     "data": {
      "text/html": [
       "<div>\n",
       "<style scoped>\n",
       "    .dataframe tbody tr th:only-of-type {\n",
       "        vertical-align: middle;\n",
       "    }\n",
       "\n",
       "    .dataframe tbody tr th {\n",
       "        vertical-align: top;\n",
       "    }\n",
       "\n",
       "    .dataframe thead th {\n",
       "        text-align: right;\n",
       "    }\n",
       "</style>\n",
       "<table border=\"1\" class=\"dataframe\">\n",
       "  <thead>\n",
       "    <tr style=\"text-align: right;\">\n",
       "      <th></th>\n",
       "      <th>ID_code</th>\n",
       "      <th>target</th>\n",
       "    </tr>\n",
       "  </thead>\n",
       "  <tbody>\n",
       "    <tr>\n",
       "      <th>0</th>\n",
       "      <td>test_0</td>\n",
       "      <td>0.138552</td>\n",
       "    </tr>\n",
       "    <tr>\n",
       "      <th>1</th>\n",
       "      <td>test_1</td>\n",
       "      <td>0.280760</td>\n",
       "    </tr>\n",
       "    <tr>\n",
       "      <th>2</th>\n",
       "      <td>test_2</td>\n",
       "      <td>0.246681</td>\n",
       "    </tr>\n",
       "    <tr>\n",
       "      <th>3</th>\n",
       "      <td>test_3</td>\n",
       "      <td>0.264208</td>\n",
       "    </tr>\n",
       "    <tr>\n",
       "      <th>4</th>\n",
       "      <td>test_4</td>\n",
       "      <td>0.057968</td>\n",
       "    </tr>\n",
       "  </tbody>\n",
       "</table>\n",
       "</div>"
      ],
      "text/plain": [
       "  ID_code    target\n",
       "0  test_0  0.138552\n",
       "1  test_1  0.280760\n",
       "2  test_2  0.246681\n",
       "3  test_3  0.264208\n",
       "4  test_4  0.057968"
      ]
     },
     "execution_count": 17,
     "metadata": {},
     "output_type": "execute_result"
    }
   ],
   "source": [
    "submission.head()"
   ]
  },
  {
   "cell_type": "code",
   "execution_count": 19,
   "metadata": {},
   "outputs": [
    {
     "data": {
      "text/html": [
       "<div>\n",
       "<style scoped>\n",
       "    .dataframe tbody tr th:only-of-type {\n",
       "        vertical-align: middle;\n",
       "    }\n",
       "\n",
       "    .dataframe tbody tr th {\n",
       "        vertical-align: top;\n",
       "    }\n",
       "\n",
       "    .dataframe thead th {\n",
       "        text-align: right;\n",
       "    }\n",
       "</style>\n",
       "<table border=\"1\" class=\"dataframe\">\n",
       "  <thead>\n",
       "    <tr style=\"text-align: right;\">\n",
       "      <th></th>\n",
       "      <th>ID_code</th>\n",
       "      <th>target</th>\n",
       "    </tr>\n",
       "  </thead>\n",
       "  <tbody>\n",
       "    <tr>\n",
       "      <th>0</th>\n",
       "      <td>test_0</td>\n",
       "      <td>1.016000</td>\n",
       "    </tr>\n",
       "    <tr>\n",
       "      <th>1</th>\n",
       "      <td>test_1</td>\n",
       "      <td>2.058812</td>\n",
       "    </tr>\n",
       "    <tr>\n",
       "      <th>2</th>\n",
       "      <td>test_2</td>\n",
       "      <td>1.808912</td>\n",
       "    </tr>\n",
       "    <tr>\n",
       "      <th>3</th>\n",
       "      <td>test_3</td>\n",
       "      <td>1.937436</td>\n",
       "    </tr>\n",
       "    <tr>\n",
       "      <th>4</th>\n",
       "      <td>test_4</td>\n",
       "      <td>0.425076</td>\n",
       "    </tr>\n",
       "  </tbody>\n",
       "</table>\n",
       "</div>"
      ],
      "text/plain": [
       "  ID_code    target\n",
       "0  test_0  1.016000\n",
       "1  test_1  2.058812\n",
       "2  test_2  1.808912\n",
       "3  test_3  1.937436\n",
       "4  test_4  0.425076"
      ]
     },
     "execution_count": 19,
     "metadata": {},
     "output_type": "execute_result"
    }
   ],
   "source": [
    "submission.head()"
   ]
  },
  {
   "cell_type": "code",
   "execution_count": 13,
   "metadata": {
    "_kg_hide-input": false,
    "_uuid": "ce2a155cd34809f36d665ce38bb3ec632ca62746"
   },
   "outputs": [],
   "source": [
    "param = {\n",
    "    'bagging_freq': 5,\n",
    "    'bagging_fraction': 0.335,\n",
    "    'boost_from_average':'false',\n",
    "    'boost': 'gbdt',\n",
    "    'feature_fraction': 0.041,\n",
    "    'learning_rate': 0.0083,\n",
    "    'max_depth': 2,\n",
    "    'metric':'auc',\n",
    "    'min_data_in_leaf': 80,\n",
    "    'min_sum_hessian_in_leaf': 10.0,\n",
    "    'num_leaves': 3,\n",
    "    'num_threads': 8,\n",
    "    'tree_learner': 'serial',\n",
    "    'objective': 'binary', \n",
    "    'verbosity': -1\n",
    "}"
   ]
  },
  {
   "cell_type": "code",
   "execution_count": 14,
   "metadata": {
    "_uuid": "8cf186957ca8ba2c018701178284190727edde87"
   },
   "outputs": [],
   "source": [
    "#kfold = 15\n",
    "#folds = StratifiedKFold(n_splits=kfold, shuffle=False, random_state=44000)\n",
    "num_folds = 10\n",
    "features = [c for c in train.columns if c not in ['ID_code', 'target']]\n",
    "\n",
    "folds = KFold(n_splits=num_folds, random_state=3319)\n",
    "oof = np.zeros(len(train))\n",
    "getVal = np.zeros(len(train))\n",
    "predictions = np.zeros(len(target))\n",
    "feature_importance_df = pd.DataFrame()"
   ]
  },
  {
   "cell_type": "code",
   "execution_count": 15,
   "metadata": {
    "scrolled": false
   },
   "outputs": [
    {
     "name": "stdout",
     "output_type": "stream",
     "text": [
      "Fold idx:1\n",
      "Training until validation scores don't improve for 3000 rounds.\n",
      "[7000]\ttraining's auc: 0.890823\tvalid_1's auc: 0.879476\n",
      "[14000]\ttraining's auc: 0.904244\tvalid_1's auc: 0.89344\n",
      "[21000]\ttraining's auc: 0.908918\tvalid_1's auc: 0.897871\n",
      "[28000]\ttraining's auc: 0.911416\tvalid_1's auc: 0.899439\n",
      "[35000]\ttraining's auc: 0.913292\tvalid_1's auc: 0.90013\n",
      "[42000]\ttraining's auc: 0.915\tvalid_1's auc: 0.900344\n",
      "Early stopping, best iteration is:\n",
      "[42418]\ttraining's auc: 0.915093\tvalid_1's auc: 0.900388\n",
      "Fold idx:2\n",
      "Training until validation scores don't improve for 3000 rounds.\n",
      "[7000]\ttraining's auc: 0.89124\tvalid_1's auc: 0.88223\n",
      "[14000]\ttraining's auc: 0.904714\tvalid_1's auc: 0.894908\n",
      "[21000]\ttraining's auc: 0.909455\tvalid_1's auc: 0.899065\n",
      "[28000]\ttraining's auc: 0.911939\tvalid_1's auc: 0.900483\n",
      "[35000]\ttraining's auc: 0.913806\tvalid_1's auc: 0.900779\n",
      "Early stopping, best iteration is:\n",
      "[35271]\ttraining's auc: 0.913878\tvalid_1's auc: 0.900807\n",
      "Fold idx:3\n",
      "Training until validation scores don't improve for 3000 rounds.\n",
      "[7000]\ttraining's auc: 0.891859\tvalid_1's auc: 0.878751\n",
      "[14000]\ttraining's auc: 0.905189\tvalid_1's auc: 0.891258\n",
      "[21000]\ttraining's auc: 0.90988\tvalid_1's auc: 0.89506\n",
      "[28000]\ttraining's auc: 0.912369\tvalid_1's auc: 0.896382\n",
      "[35000]\ttraining's auc: 0.914238\tvalid_1's auc: 0.896794\n",
      "Early stopping, best iteration is:\n",
      "[37782]\ttraining's auc: 0.914915\tvalid_1's auc: 0.896917\n",
      "Fold idx:4\n",
      "Training until validation scores don't improve for 3000 rounds.\n",
      "[7000]\ttraining's auc: 0.891117\tvalid_1's auc: 0.883211\n",
      "[14000]\ttraining's auc: 0.904365\tvalid_1's auc: 0.894937\n",
      "[21000]\ttraining's auc: 0.908966\tvalid_1's auc: 0.898344\n",
      "[28000]\ttraining's auc: 0.911395\tvalid_1's auc: 0.899311\n",
      "[35000]\ttraining's auc: 0.913293\tvalid_1's auc: 0.899666\n",
      "Early stopping, best iteration is:\n",
      "[32735]\ttraining's auc: 0.912716\tvalid_1's auc: 0.89969\n",
      "Fold idx:5\n",
      "Training until validation scores don't improve for 3000 rounds.\n",
      "[7000]\ttraining's auc: 0.890716\tvalid_1's auc: 0.883454\n",
      "[14000]\ttraining's auc: 0.90437\tvalid_1's auc: 0.896445\n",
      "[21000]\ttraining's auc: 0.909077\tvalid_1's auc: 0.899832\n",
      "[28000]\ttraining's auc: 0.911504\tvalid_1's auc: 0.900777\n",
      "[35000]\ttraining's auc: 0.913366\tvalid_1's auc: 0.901018\n",
      "Early stopping, best iteration is:\n",
      "[38133]\ttraining's auc: 0.914107\tvalid_1's auc: 0.901066\n",
      "Fold idx:6\n",
      "Training until validation scores don't improve for 3000 rounds.\n",
      "[7000]\ttraining's auc: 0.891438\tvalid_1's auc: 0.887386\n",
      "[14000]\ttraining's auc: 0.904707\tvalid_1's auc: 0.899364\n",
      "[21000]\ttraining's auc: 0.909354\tvalid_1's auc: 0.902859\n",
      "[28000]\ttraining's auc: 0.91184\tvalid_1's auc: 0.904034\n",
      "[35000]\ttraining's auc: 0.913743\tvalid_1's auc: 0.904209\n",
      "Early stopping, best iteration is:\n",
      "[37765]\ttraining's auc: 0.914435\tvalid_1's auc: 0.904273\n",
      "Fold idx:7\n",
      "Training until validation scores don't improve for 3000 rounds.\n",
      "[7000]\ttraining's auc: 0.8919\tvalid_1's auc: 0.885748\n",
      "[14000]\ttraining's auc: 0.905494\tvalid_1's auc: 0.897973\n",
      "[21000]\ttraining's auc: 0.910112\tvalid_1's auc: 0.90119\n",
      "[28000]\ttraining's auc: 0.912604\tvalid_1's auc: 0.902304\n",
      "[35000]\ttraining's auc: 0.914472\tvalid_1's auc: 0.902587\n",
      "Early stopping, best iteration is:\n",
      "[36588]\ttraining's auc: 0.914848\tvalid_1's auc: 0.902605\n",
      "Fold idx:8\n",
      "Training until validation scores don't improve for 3000 rounds.\n",
      "[7000]\ttraining's auc: 0.890925\tvalid_1's auc: 0.882561\n",
      "[14000]\ttraining's auc: 0.904442\tvalid_1's auc: 0.895082\n",
      "[21000]\ttraining's auc: 0.90912\tvalid_1's auc: 0.898895\n",
      "[28000]\ttraining's auc: 0.911626\tvalid_1's auc: 0.900316\n",
      "[35000]\ttraining's auc: 0.913562\tvalid_1's auc: 0.900627\n",
      "Early stopping, best iteration is:\n",
      "[32336]\ttraining's auc: 0.912882\tvalid_1's auc: 0.900673\n",
      "Fold idx:9\n",
      "Training until validation scores don't improve for 3000 rounds.\n",
      "[7000]\ttraining's auc: 0.890611\tvalid_1's auc: 0.88976\n",
      "[14000]\ttraining's auc: 0.904079\tvalid_1's auc: 0.90166\n",
      "[21000]\ttraining's auc: 0.908811\tvalid_1's auc: 0.904973\n",
      "[28000]\ttraining's auc: 0.911322\tvalid_1's auc: 0.905912\n",
      "[35000]\ttraining's auc: 0.913196\tvalid_1's auc: 0.90603\n",
      "Early stopping, best iteration is:\n",
      "[33892]\ttraining's auc: 0.912915\tvalid_1's auc: 0.906052\n",
      "Fold idx:10\n",
      "Training until validation scores don't improve for 3000 rounds.\n",
      "[7000]\ttraining's auc: 0.890981\tvalid_1's auc: 0.886627\n",
      "[14000]\ttraining's auc: 0.904429\tvalid_1's auc: 0.898089\n",
      "[21000]\ttraining's auc: 0.909087\tvalid_1's auc: 0.901885\n",
      "[28000]\ttraining's auc: 0.911576\tvalid_1's auc: 0.903066\n",
      "[35000]\ttraining's auc: 0.913405\tvalid_1's auc: 0.903349\n",
      "Early stopping, best iteration is:\n",
      "[38231]\ttraining's auc: 0.914202\tvalid_1's auc: 0.903487\n"
     ]
    }
   ],
   "source": [
    "for fold_, (trn_idx, val_idx) in enumerate(folds.split(train.values, target.values)):\n",
    "    \n",
    "    X_train, y_train = train.iloc[trn_idx][features], target.iloc[trn_idx]\n",
    "    X_valid, y_valid = train.iloc[val_idx][features], target.iloc[val_idx]\n",
    "    \n",
    "    X_tr, y_tr = augment(X_train.values, y_train.values)\n",
    "    X_tr = pd.DataFrame(X_tr)\n",
    "    \n",
    "    print(\"Fold idx:{}\".format(fold_ + 1))\n",
    "    trn_data = lgb.Dataset(X_tr, label=y_tr)\n",
    "    val_data = lgb.Dataset(X_valid, label=y_valid)\n",
    "    \n",
    "    clf = lgb.train(param, trn_data, 1000000, valid_sets = [trn_data, val_data], verbose_eval=7000, \n",
    "                    early_stopping_rounds = 3000)\n",
    "    oof[val_idx] = clf.predict(train.iloc[val_idx][features], num_iteration=clf.best_iteration)\n",
    "    getVal[val_idx]+= clf.predict(train.iloc[val_idx][features], num_iteration=clf.best_iteration) / folds.n_splits\n",
    "    \n",
    "    fold_importance_df = pd.DataFrame()\n",
    "    fold_importance_df[\"feature\"] = features\n",
    "    fold_importance_df[\"importance\"] = clf.feature_importance()\n",
    "    fold_importance_df[\"fold\"] = fold_ + 1\n",
    "    feature_importance_df = pd.concat([feature_importance_df, fold_importance_df], axis=0)\n",
    "    \n",
    "    predictions += clf.predict(test[features], num_iteration=clf.best_iteration) / folds.n_splits"
   ]
  },
  {
   "cell_type": "code",
   "execution_count": null,
   "metadata": {},
   "outputs": [],
   "source": []
  },
  {
   "cell_type": "code",
   "execution_count": 13,
   "metadata": {
    "_kg_hide-input": false,
    "_uuid": "ce2a155cd34809f36d665ce38bb3ec632ca62746"
   },
   "outputs": [],
   "source": [
    "param = {\n",
    "    'bagging_freq': 5,\n",
    "    'bagging_fraction': 0.335,\n",
    "    'boost_from_average':'false',\n",
    "    'boost': 'gbdt',\n",
    "    'feature_fraction': 0.041,\n",
    "    'learning_rate': 0.0083,\n",
    "    'max_depth': 2,\n",
    "    'metric':'auc',\n",
    "    'min_data_in_leaf': 80,\n",
    "    'min_sum_hessian_in_leaf': 10.0,\n",
    "    'num_leaves': 3,\n",
    "    'num_threads': 8,\n",
    "    'tree_learner': 'serial',\n",
    "    'objective': 'binary', \n",
    "    'verbosity': -1\n",
    "}"
   ]
  },
  {
   "cell_type": "code",
   "execution_count": 14,
   "metadata": {
    "_uuid": "8cf186957ca8ba2c018701178284190727edde87"
   },
   "outputs": [],
   "source": [
    "#kfold = 15\n",
    "#folds = StratifiedKFold(n_splits=kfold, shuffle=False, random_state=44000)\n",
    "num_folds = 10\n",
    "features = [c for c in train.columns if c not in ['ID_code', 'target']]\n",
    "\n",
    "folds = KFold(n_splits=num_folds, random_state=3319)\n",
    "oof = np.zeros(len(train))\n",
    "getVal = np.zeros(len(train))\n",
    "predictions = np.zeros(len(target))\n",
    "feature_importance_df = pd.DataFrame()"
   ]
  },
  {
   "cell_type": "code",
   "execution_count": 15,
   "metadata": {
    "scrolled": false
   },
   "outputs": [
    {
     "name": "stdout",
     "output_type": "stream",
     "text": [
      "Fold idx:1\n",
      "Training until validation scores don't improve for 3000 rounds.\n",
      "[7000]\ttraining's auc: 0.890823\tvalid_1's auc: 0.879476\n",
      "[14000]\ttraining's auc: 0.904244\tvalid_1's auc: 0.89344\n",
      "[21000]\ttraining's auc: 0.908918\tvalid_1's auc: 0.897871\n",
      "[28000]\ttraining's auc: 0.911416\tvalid_1's auc: 0.899439\n",
      "[35000]\ttraining's auc: 0.913292\tvalid_1's auc: 0.90013\n",
      "[42000]\ttraining's auc: 0.915\tvalid_1's auc: 0.900344\n",
      "Early stopping, best iteration is:\n",
      "[42418]\ttraining's auc: 0.915093\tvalid_1's auc: 0.900388\n",
      "Fold idx:2\n",
      "Training until validation scores don't improve for 3000 rounds.\n",
      "[7000]\ttraining's auc: 0.89124\tvalid_1's auc: 0.88223\n",
      "[14000]\ttraining's auc: 0.904714\tvalid_1's auc: 0.894908\n",
      "[21000]\ttraining's auc: 0.909455\tvalid_1's auc: 0.899065\n",
      "[28000]\ttraining's auc: 0.911939\tvalid_1's auc: 0.900483\n",
      "[35000]\ttraining's auc: 0.913806\tvalid_1's auc: 0.900779\n",
      "Early stopping, best iteration is:\n",
      "[35271]\ttraining's auc: 0.913878\tvalid_1's auc: 0.900807\n",
      "Fold idx:3\n",
      "Training until validation scores don't improve for 3000 rounds.\n",
      "[7000]\ttraining's auc: 0.891859\tvalid_1's auc: 0.878751\n",
      "[14000]\ttraining's auc: 0.905189\tvalid_1's auc: 0.891258\n",
      "[21000]\ttraining's auc: 0.90988\tvalid_1's auc: 0.89506\n",
      "[28000]\ttraining's auc: 0.912369\tvalid_1's auc: 0.896382\n",
      "[35000]\ttraining's auc: 0.914238\tvalid_1's auc: 0.896794\n",
      "Early stopping, best iteration is:\n",
      "[37782]\ttraining's auc: 0.914915\tvalid_1's auc: 0.896917\n",
      "Fold idx:4\n",
      "Training until validation scores don't improve for 3000 rounds.\n",
      "[7000]\ttraining's auc: 0.891117\tvalid_1's auc: 0.883211\n",
      "[14000]\ttraining's auc: 0.904365\tvalid_1's auc: 0.894937\n",
      "[21000]\ttraining's auc: 0.908966\tvalid_1's auc: 0.898344\n",
      "[28000]\ttraining's auc: 0.911395\tvalid_1's auc: 0.899311\n",
      "[35000]\ttraining's auc: 0.913293\tvalid_1's auc: 0.899666\n",
      "Early stopping, best iteration is:\n",
      "[32735]\ttraining's auc: 0.912716\tvalid_1's auc: 0.89969\n",
      "Fold idx:5\n",
      "Training until validation scores don't improve for 3000 rounds.\n",
      "[7000]\ttraining's auc: 0.890716\tvalid_1's auc: 0.883454\n",
      "[14000]\ttraining's auc: 0.90437\tvalid_1's auc: 0.896445\n",
      "[21000]\ttraining's auc: 0.909077\tvalid_1's auc: 0.899832\n",
      "[28000]\ttraining's auc: 0.911504\tvalid_1's auc: 0.900777\n",
      "[35000]\ttraining's auc: 0.913366\tvalid_1's auc: 0.901018\n",
      "Early stopping, best iteration is:\n",
      "[38133]\ttraining's auc: 0.914107\tvalid_1's auc: 0.901066\n",
      "Fold idx:6\n",
      "Training until validation scores don't improve for 3000 rounds.\n",
      "[7000]\ttraining's auc: 0.891438\tvalid_1's auc: 0.887386\n",
      "[14000]\ttraining's auc: 0.904707\tvalid_1's auc: 0.899364\n",
      "[21000]\ttraining's auc: 0.909354\tvalid_1's auc: 0.902859\n",
      "[28000]\ttraining's auc: 0.91184\tvalid_1's auc: 0.904034\n",
      "[35000]\ttraining's auc: 0.913743\tvalid_1's auc: 0.904209\n",
      "Early stopping, best iteration is:\n",
      "[37765]\ttraining's auc: 0.914435\tvalid_1's auc: 0.904273\n",
      "Fold idx:7\n",
      "Training until validation scores don't improve for 3000 rounds.\n",
      "[7000]\ttraining's auc: 0.8919\tvalid_1's auc: 0.885748\n",
      "[14000]\ttraining's auc: 0.905494\tvalid_1's auc: 0.897973\n",
      "[21000]\ttraining's auc: 0.910112\tvalid_1's auc: 0.90119\n",
      "[28000]\ttraining's auc: 0.912604\tvalid_1's auc: 0.902304\n",
      "[35000]\ttraining's auc: 0.914472\tvalid_1's auc: 0.902587\n",
      "Early stopping, best iteration is:\n",
      "[36588]\ttraining's auc: 0.914848\tvalid_1's auc: 0.902605\n",
      "Fold idx:8\n",
      "Training until validation scores don't improve for 3000 rounds.\n",
      "[7000]\ttraining's auc: 0.890925\tvalid_1's auc: 0.882561\n",
      "[14000]\ttraining's auc: 0.904442\tvalid_1's auc: 0.895082\n",
      "[21000]\ttraining's auc: 0.90912\tvalid_1's auc: 0.898895\n",
      "[28000]\ttraining's auc: 0.911626\tvalid_1's auc: 0.900316\n",
      "[35000]\ttraining's auc: 0.913562\tvalid_1's auc: 0.900627\n",
      "Early stopping, best iteration is:\n",
      "[32336]\ttraining's auc: 0.912882\tvalid_1's auc: 0.900673\n",
      "Fold idx:9\n",
      "Training until validation scores don't improve for 3000 rounds.\n",
      "[7000]\ttraining's auc: 0.890611\tvalid_1's auc: 0.88976\n",
      "[14000]\ttraining's auc: 0.904079\tvalid_1's auc: 0.90166\n",
      "[21000]\ttraining's auc: 0.908811\tvalid_1's auc: 0.904973\n",
      "[28000]\ttraining's auc: 0.911322\tvalid_1's auc: 0.905912\n",
      "[35000]\ttraining's auc: 0.913196\tvalid_1's auc: 0.90603\n",
      "Early stopping, best iteration is:\n",
      "[33892]\ttraining's auc: 0.912915\tvalid_1's auc: 0.906052\n",
      "Fold idx:10\n",
      "Training until validation scores don't improve for 3000 rounds.\n",
      "[7000]\ttraining's auc: 0.890981\tvalid_1's auc: 0.886627\n",
      "[14000]\ttraining's auc: 0.904429\tvalid_1's auc: 0.898089\n",
      "[21000]\ttraining's auc: 0.909087\tvalid_1's auc: 0.901885\n",
      "[28000]\ttraining's auc: 0.911576\tvalid_1's auc: 0.903066\n",
      "[35000]\ttraining's auc: 0.913405\tvalid_1's auc: 0.903349\n",
      "Early stopping, best iteration is:\n",
      "[38231]\ttraining's auc: 0.914202\tvalid_1's auc: 0.903487\n"
     ]
    }
   ],
   "source": [
    "for fold_, (trn_idx, val_idx) in enumerate(folds.split(train.values, target.values)):\n",
    "    \n",
    "    X_train, y_train = train.iloc[trn_idx][features], target.iloc[trn_idx]\n",
    "    X_valid, y_valid = train.iloc[val_idx][features], target.iloc[val_idx]\n",
    "    \n",
    "    X_tr, y_tr = augment(X_train.values, y_train.values)\n",
    "    X_tr = pd.DataFrame(X_tr)\n",
    "    \n",
    "    print(\"Fold idx:{}\".format(fold_ + 1))\n",
    "    trn_data = lgb.Dataset(X_tr, label=y_tr)\n",
    "    val_data = lgb.Dataset(X_valid, label=y_valid)\n",
    "    \n",
    "    clf = lgb.train(param, trn_data, 1000000, valid_sets = [trn_data, val_data], verbose_eval=7000, \n",
    "                    early_stopping_rounds = 3000)\n",
    "    oof[val_idx] = clf.predict(train.iloc[val_idx][features], num_iteration=clf.best_iteration)\n",
    "    getVal[val_idx]+= clf.predict(train.iloc[val_idx][features], num_iteration=clf.best_iteration) / folds.n_splits\n",
    "    \n",
    "    fold_importance_df = pd.DataFrame()\n",
    "    fold_importance_df[\"feature\"] = features\n",
    "    fold_importance_df[\"importance\"] = clf.feature_importance()\n",
    "    fold_importance_df[\"fold\"] = fold_ + 1\n",
    "    feature_importance_df = pd.concat([feature_importance_df, fold_importance_df], axis=0)\n",
    "    \n",
    "    predictions += clf.predict(test[features], num_iteration=clf.best_iteration) / folds.n_splits"
   ]
  },
  {
   "cell_type": "code",
   "execution_count": null,
   "metadata": {},
   "outputs": [],
   "source": [
    "param = {\n",
    "    'bagging_freq': 5,\n",
    "    'bagging_fraction': 0.335,\n",
    "    'boost_from_average':'false',\n",
    "    'boost': 'gbdt',\n",
    "    'feature_fraction': 0.041,\n",
    "    'learning_rate': 0.0083,\n",
    "    'max_depth': -1,\n",
    "    'metric':'auc',\n",
    "    'min_data_in_leaf': 80,\n",
    "    'min_sum_hessian_in_leaf': 10.0,\n",
    "    'num_leaves': 13,\n",
    "    'num_threads': 8,\n",
    "    'tree_learner': 'serial',\n",
    "    'objective': 'binary', \n",
    "    'verbosity': -1\n",
    "}"
   ]
  },
  {
   "cell_type": "code",
   "execution_count": 15,
   "metadata": {
    "_cell_guid": "79c7e3d0-c299-4dcb-8224-4455121ee9b0",
    "_kg_hide-input": true,
    "_kg_hide-output": true,
    "_uuid": "d629ff2d2480ee46fbb7e2d37f6b5fab8052498a"
   },
   "outputs": [
    {
     "name": "stdout",
     "output_type": "stream",
     "text": [
      "Fold idx:1\n",
      "Training until validation scores don't improve for 4000 rounds.\n",
      "[5000]\ttraining's auc: 0.911087\tvalid_1's auc: 0.896164\n",
      "[10000]\ttraining's auc: 0.921085\tvalid_1's auc: 0.900371\n",
      "[15000]\ttraining's auc: 0.9287\tvalid_1's auc: 0.901346\n",
      "[20000]\ttraining's auc: 0.93561\tvalid_1's auc: 0.901193\n",
      "Early stopping, best iteration is:\n",
      "[16533]\ttraining's auc: 0.930866\tvalid_1's auc: 0.901554\n",
      "Fold idx:2\n",
      "Training until validation scores don't improve for 4000 rounds.\n",
      "[5000]\ttraining's auc: 0.912634\tvalid_1's auc: 0.895351\n",
      "[10000]\ttraining's auc: 0.922375\tvalid_1's auc: 0.898337\n",
      "[15000]\ttraining's auc: 0.929878\tvalid_1's auc: 0.8988\n",
      "Early stopping, best iteration is:\n",
      "[15532]\ttraining's auc: 0.930621\tvalid_1's auc: 0.898902\n",
      "Fold idx:3\n",
      "Training until validation scores don't improve for 4000 rounds.\n",
      "[5000]\ttraining's auc: 0.912753\tvalid_1's auc: 0.889083\n",
      "[10000]\ttraining's auc: 0.922531\tvalid_1's auc: 0.892518\n",
      "[15000]\ttraining's auc: 0.930076\tvalid_1's auc: 0.892495\n",
      "Early stopping, best iteration is:\n",
      "[12996]\ttraining's auc: 0.927205\tvalid_1's auc: 0.89271\n",
      "Fold idx:4\n",
      "Training until validation scores don't improve for 4000 rounds.\n",
      "[5000]\ttraining's auc: 0.912356\tvalid_1's auc: 0.899706\n",
      "[10000]\ttraining's auc: 0.922318\tvalid_1's auc: 0.902446\n",
      "[15000]\ttraining's auc: 0.929902\tvalid_1's auc: 0.902674\n",
      "Early stopping, best iteration is:\n",
      "[13719]\ttraining's auc: 0.92803\tvalid_1's auc: 0.902789\n",
      "Fold idx:5\n",
      "Training until validation scores don't improve for 4000 rounds.\n",
      "[5000]\ttraining's auc: 0.912552\tvalid_1's auc: 0.896223\n",
      "[10000]\ttraining's auc: 0.922479\tvalid_1's auc: 0.899091\n",
      "[15000]\ttraining's auc: 0.92997\tvalid_1's auc: 0.899427\n",
      "Early stopping, best iteration is:\n",
      "[14442]\ttraining's auc: 0.929189\tvalid_1's auc: 0.899563\n",
      "Fold idx:6\n",
      "Training until validation scores don't improve for 4000 rounds.\n",
      "[5000]\ttraining's auc: 0.911547\tvalid_1's auc: 0.898772\n",
      "[10000]\ttraining's auc: 0.921539\tvalid_1's auc: 0.901429\n",
      "[15000]\ttraining's auc: 0.929173\tvalid_1's auc: 0.901422\n",
      "Early stopping, best iteration is:\n",
      "[11163]\ttraining's auc: 0.923404\tvalid_1's auc: 0.901569\n",
      "Fold idx:7\n",
      "Training until validation scores don't improve for 4000 rounds.\n",
      "[5000]\ttraining's auc: 0.911808\tvalid_1's auc: 0.902527\n",
      "[10000]\ttraining's auc: 0.921673\tvalid_1's auc: 0.904696\n",
      "[15000]\ttraining's auc: 0.929242\tvalid_1's auc: 0.904911\n",
      "Early stopping, best iteration is:\n",
      "[12789]\ttraining's auc: 0.926025\tvalid_1's auc: 0.905079\n",
      "Fold idx:8\n",
      "Training until validation scores don't improve for 4000 rounds.\n",
      "[5000]\ttraining's auc: 0.912121\tvalid_1's auc: 0.89692\n",
      "[10000]\ttraining's auc: 0.922065\tvalid_1's auc: 0.900199\n",
      "[15000]\ttraining's auc: 0.929659\tvalid_1's auc: 0.900266\n",
      "Early stopping, best iteration is:\n",
      "[13601]\ttraining's auc: 0.927612\tvalid_1's auc: 0.90039\n",
      "Fold idx:9\n",
      "Training until validation scores don't improve for 4000 rounds.\n",
      "[5000]\ttraining's auc: 0.911969\tvalid_1's auc: 0.900385\n",
      "[10000]\ttraining's auc: 0.921932\tvalid_1's auc: 0.904025\n",
      "[15000]\ttraining's auc: 0.929516\tvalid_1's auc: 0.904056\n",
      "Early stopping, best iteration is:\n",
      "[12709]\ttraining's auc: 0.926183\tvalid_1's auc: 0.904279\n",
      "Fold idx:10\n",
      "Training until validation scores don't improve for 4000 rounds.\n",
      "[5000]\ttraining's auc: 0.911417\tvalid_1's auc: 0.903217\n",
      "[10000]\ttraining's auc: 0.921301\tvalid_1's auc: 0.906265\n",
      "[15000]\ttraining's auc: 0.928901\tvalid_1's auc: 0.906604\n",
      "[20000]\ttraining's auc: 0.935811\tvalid_1's auc: 0.906464\n",
      "Early stopping, best iteration is:\n",
      "[16211]\ttraining's auc: 0.930623\tvalid_1's auc: 0.906727\n",
      "Fold idx:11\n",
      "Training until validation scores don't improve for 4000 rounds.\n",
      "[5000]\ttraining's auc: 0.911663\tvalid_1's auc: 0.897573\n",
      "[10000]\ttraining's auc: 0.921619\tvalid_1's auc: 0.900738\n",
      "[15000]\ttraining's auc: 0.929242\tvalid_1's auc: 0.900922\n",
      "Early stopping, best iteration is:\n",
      "[12429]\ttraining's auc: 0.925444\tvalid_1's auc: 0.901152\n"
     ]
    }
   ],
   "source": [
    "for fold_, (trn_idx, val_idx) in enumerate(folds.split(train.values, target.values)):\n",
    "    \n",
    "    X_train, y_train = train.iloc[trn_idx][features], target.iloc[trn_idx]\n",
    "    X_valid, y_valid = train.iloc[val_idx][features], target.iloc[val_idx]\n",
    "    \n",
    "    X_tr, y_tr = augment(X_train.values, y_train.values)\n",
    "    X_tr = pd.DataFrame(X_tr)\n",
    "    \n",
    "    print(\"Fold idx:{}\".format(fold_ + 1))\n",
    "    trn_data = lgb.Dataset(X_tr, label=y_tr)\n",
    "    val_data = lgb.Dataset(X_valid, label=y_valid)\n",
    "    \n",
    "    clf = lgb.train(param, trn_data, 1000000, valid_sets = [trn_data, val_data], verbose_eval=5000, early_stopping_rounds = 4000)\n",
    "    oof[val_idx] = clf.predict(train.iloc[val_idx][features], num_iteration=clf.best_iteration)\n",
    "    getVal[val_idx]+= clf.predict(train.iloc[val_idx][features], num_iteration=clf.best_iteration) / folds.n_splits\n",
    "    \n",
    "    fold_importance_df = pd.DataFrame()\n",
    "    fold_importance_df[\"feature\"] = features\n",
    "    fold_importance_df[\"importance\"] = clf.feature_importance()\n",
    "    fold_importance_df[\"fold\"] = fold_ + 1\n",
    "    feature_importance_df = pd.concat([feature_importance_df, fold_importance_df], axis=0)\n",
    "    \n",
    "    predictions += clf.predict(test[features], num_iteration=clf.best_iteration) / folds.n_splits"
   ]
  }
 ],
 "metadata": {
  "kernelspec": {
   "display_name": "Python 3",
   "language": "python",
   "name": "python3"
  },
  "language_info": {
   "codemirror_mode": {
    "name": "ipython",
    "version": 3
   },
   "file_extension": ".py",
   "mimetype": "text/x-python",
   "name": "python",
   "nbconvert_exporter": "python",
   "pygments_lexer": "ipython3",
   "version": "3.7.0"
  }
 },
 "nbformat": 4,
 "nbformat_minor": 1
}
